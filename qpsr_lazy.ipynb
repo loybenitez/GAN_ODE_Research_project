{
  "nbformat": 4,
  "nbformat_minor": 0,
  "metadata": {
    "colab": {
      "name": "qpsr_lazy.ipynb",
      "provenance": [],
      "authorship_tag": "ABX9TyO9r/sKUBIFq5zTAW+Gm1tA",
      "include_colab_link": true
    },
    "kernelspec": {
      "name": "python3",
      "display_name": "Python 3"
    },
    "language_info": {
      "name": "python"
    }
  },
  "cells": [
    {
      "cell_type": "markdown",
      "metadata": {
        "id": "view-in-github",
        "colab_type": "text"
      },
      "source": [
        "<a href=\"https://colab.research.google.com/github/loybenitez/GAN_ODE_Research_project/blob/master/qpsr_lazy.ipynb\" target=\"_parent\"><img src=\"https://colab.research.google.com/assets/colab-badge.svg\" alt=\"Open In Colab\"/></a>"
      ]
    },
    {
      "cell_type": "code",
      "metadata": {
        "colab": {
          "base_uri": "https://localhost:8080/",
          "height": 1000
        },
        "id": "8-VixPEwvVUj",
        "outputId": "f3596fee-80ac-482e-c5b4-cc300ef0ef05"
      },
      "source": [
        "!pip install lazypredict"
      ],
      "execution_count": null,
      "outputs": [
        {
          "output_type": "stream",
          "name": "stdout",
          "text": [
            "Collecting lazypredict\n",
            "  Downloading lazypredict-0.2.9-py2.py3-none-any.whl (12 kB)\n",
            "Collecting PyYAML==5.3.1\n",
            "  Downloading PyYAML-5.3.1.tar.gz (269 kB)\n",
            "\u001b[K     |████████████████████████████████| 269 kB 2.3 MB/s \n",
            "\u001b[?25hCollecting joblib==1.0.0\n",
            "  Downloading joblib-1.0.0-py3-none-any.whl (302 kB)\n",
            "\u001b[K     |████████████████████████████████| 302 kB 43.6 MB/s \n",
            "\u001b[?25hCollecting lightgbm==2.3.1\n",
            "  Downloading lightgbm-2.3.1-py2.py3-none-manylinux1_x86_64.whl (1.2 MB)\n",
            "\u001b[K     |████████████████████████████████| 1.2 MB 39.3 MB/s \n",
            "\u001b[?25hCollecting numpy==1.19.1\n",
            "  Downloading numpy-1.19.1-cp37-cp37m-manylinux2010_x86_64.whl (14.5 MB)\n",
            "\u001b[K     |████████████████████████████████| 14.5 MB 7.8 kB/s \n",
            "\u001b[?25hRequirement already satisfied: click==7.1.2 in /usr/local/lib/python3.7/dist-packages (from lazypredict) (7.1.2)\n",
            "Collecting tqdm==4.56.0\n",
            "  Downloading tqdm-4.56.0-py2.py3-none-any.whl (72 kB)\n",
            "\u001b[K     |████████████████████████████████| 72 kB 1.1 MB/s \n",
            "\u001b[?25hCollecting pytest==5.4.3\n",
            "  Downloading pytest-5.4.3-py3-none-any.whl (248 kB)\n",
            "\u001b[K     |████████████████████████████████| 248 kB 29.0 MB/s \n",
            "\u001b[?25hCollecting pandas==1.0.5\n",
            "  Downloading pandas-1.0.5-cp37-cp37m-manylinux1_x86_64.whl (10.1 MB)\n",
            "\u001b[K     |████████████████████████████████| 10.1 MB 8.5 MB/s \n",
            "\u001b[?25hRequirement already satisfied: six==1.15.0 in /usr/local/lib/python3.7/dist-packages (from lazypredict) (1.15.0)\n",
            "Collecting xgboost==1.1.1\n",
            "  Downloading xgboost-1.1.1-py3-none-manylinux2010_x86_64.whl (127.6 MB)\n",
            "\u001b[K     |████████████████████████████████| 127.6 MB 19 kB/s \n",
            "\u001b[?25hCollecting scikit-learn==0.23.1\n",
            "  Downloading scikit_learn-0.23.1-cp37-cp37m-manylinux1_x86_64.whl (6.8 MB)\n",
            "\u001b[K     |████████████████████████████████| 6.8 MB 8.2 MB/s \n",
            "\u001b[?25hCollecting scipy==1.5.4\n",
            "  Downloading scipy-1.5.4-cp37-cp37m-manylinux1_x86_64.whl (25.9 MB)\n",
            "\u001b[K     |████████████████████████████████| 25.9 MB 1.0 kB/s \n",
            "\u001b[?25hRequirement already satisfied: python-dateutil>=2.6.1 in /usr/local/lib/python3.7/dist-packages (from pandas==1.0.5->lazypredict) (2.8.2)\n",
            "Requirement already satisfied: pytz>=2017.2 in /usr/local/lib/python3.7/dist-packages (from pandas==1.0.5->lazypredict) (2018.9)\n",
            "Collecting pluggy<1.0,>=0.12\n",
            "  Downloading pluggy-0.13.1-py2.py3-none-any.whl (18 kB)\n",
            "Requirement already satisfied: py>=1.5.0 in /usr/local/lib/python3.7/dist-packages (from pytest==5.4.3->lazypredict) (1.10.0)\n",
            "Requirement already satisfied: wcwidth in /usr/local/lib/python3.7/dist-packages (from pytest==5.4.3->lazypredict) (0.2.5)\n",
            "Requirement already satisfied: packaging in /usr/local/lib/python3.7/dist-packages (from pytest==5.4.3->lazypredict) (21.0)\n",
            "Requirement already satisfied: more-itertools>=4.0.0 in /usr/local/lib/python3.7/dist-packages (from pytest==5.4.3->lazypredict) (8.10.0)\n",
            "Requirement already satisfied: importlib-metadata>=0.12 in /usr/local/lib/python3.7/dist-packages (from pytest==5.4.3->lazypredict) (4.8.1)\n",
            "Requirement already satisfied: attrs>=17.4.0 in /usr/local/lib/python3.7/dist-packages (from pytest==5.4.3->lazypredict) (21.2.0)\n",
            "Collecting threadpoolctl>=2.0.0\n",
            "  Downloading threadpoolctl-2.2.0-py3-none-any.whl (12 kB)\n",
            "Requirement already satisfied: zipp>=0.5 in /usr/local/lib/python3.7/dist-packages (from importlib-metadata>=0.12->pytest==5.4.3->lazypredict) (3.5.0)\n",
            "Requirement already satisfied: typing-extensions>=3.6.4 in /usr/local/lib/python3.7/dist-packages (from importlib-metadata>=0.12->pytest==5.4.3->lazypredict) (3.7.4.3)\n",
            "Requirement already satisfied: pyparsing>=2.0.2 in /usr/local/lib/python3.7/dist-packages (from packaging->pytest==5.4.3->lazypredict) (2.4.7)\n",
            "Building wheels for collected packages: PyYAML\n",
            "  Building wheel for PyYAML (setup.py) ... \u001b[?25l\u001b[?25hdone\n",
            "  Created wheel for PyYAML: filename=PyYAML-5.3.1-cp37-cp37m-linux_x86_64.whl size=44635 sha256=68cb124551899d9270f39d86df548e2957bc5b311a4b32b119395e5917dbb361\n",
            "  Stored in directory: /root/.cache/pip/wheels/5e/03/1e/e1e954795d6f35dfc7b637fe2277bff021303bd9570ecea653\n",
            "Successfully built PyYAML\n",
            "Installing collected packages: numpy, threadpoolctl, scipy, joblib, scikit-learn, pluggy, xgboost, tqdm, PyYAML, pytest, pandas, lightgbm, lazypredict\n",
            "  Attempting uninstall: numpy\n",
            "    Found existing installation: numpy 1.19.5\n",
            "    Uninstalling numpy-1.19.5:\n",
            "      Successfully uninstalled numpy-1.19.5\n",
            "  Attempting uninstall: scipy\n",
            "    Found existing installation: scipy 1.4.1\n",
            "    Uninstalling scipy-1.4.1:\n",
            "      Successfully uninstalled scipy-1.4.1\n",
            "  Attempting uninstall: joblib\n",
            "    Found existing installation: joblib 1.0.1\n",
            "    Uninstalling joblib-1.0.1:\n",
            "      Successfully uninstalled joblib-1.0.1\n",
            "  Attempting uninstall: scikit-learn\n",
            "    Found existing installation: scikit-learn 0.22.2.post1\n",
            "    Uninstalling scikit-learn-0.22.2.post1:\n",
            "      Successfully uninstalled scikit-learn-0.22.2.post1\n",
            "  Attempting uninstall: pluggy\n",
            "    Found existing installation: pluggy 0.7.1\n",
            "    Uninstalling pluggy-0.7.1:\n",
            "      Successfully uninstalled pluggy-0.7.1\n",
            "  Attempting uninstall: xgboost\n",
            "    Found existing installation: xgboost 0.90\n",
            "    Uninstalling xgboost-0.90:\n",
            "      Successfully uninstalled xgboost-0.90\n",
            "  Attempting uninstall: tqdm\n",
            "    Found existing installation: tqdm 4.62.3\n",
            "    Uninstalling tqdm-4.62.3:\n",
            "      Successfully uninstalled tqdm-4.62.3\n",
            "  Attempting uninstall: PyYAML\n",
            "    Found existing installation: PyYAML 3.13\n",
            "    Uninstalling PyYAML-3.13:\n",
            "      Successfully uninstalled PyYAML-3.13\n",
            "  Attempting uninstall: pytest\n",
            "    Found existing installation: pytest 3.6.4\n",
            "    Uninstalling pytest-3.6.4:\n",
            "      Successfully uninstalled pytest-3.6.4\n",
            "  Attempting uninstall: pandas\n",
            "    Found existing installation: pandas 1.1.5\n",
            "    Uninstalling pandas-1.1.5:\n",
            "      Successfully uninstalled pandas-1.1.5\n",
            "  Attempting uninstall: lightgbm\n",
            "    Found existing installation: lightgbm 2.2.3\n",
            "    Uninstalling lightgbm-2.2.3:\n",
            "      Successfully uninstalled lightgbm-2.2.3\n",
            "\u001b[31mERROR: pip's dependency resolver does not currently take into account all the packages that are installed. This behaviour is the source of the following dependency conflicts.\n",
            "tensorflow 2.6.0 requires numpy~=1.19.2, but you have numpy 1.19.1 which is incompatible.\n",
            "google-colab 1.0.0 requires pandas~=1.1.0; python_version >= \"3.0\", but you have pandas 1.0.5 which is incompatible.\n",
            "datascience 0.10.6 requires folium==0.2.1, but you have folium 0.8.3 which is incompatible.\n",
            "albumentations 0.1.12 requires imgaug<0.2.7,>=0.2.5, but you have imgaug 0.2.9 which is incompatible.\u001b[0m\n",
            "Successfully installed PyYAML-5.3.1 joblib-1.0.0 lazypredict-0.2.9 lightgbm-2.3.1 numpy-1.19.1 pandas-1.0.5 pluggy-0.13.1 pytest-5.4.3 scikit-learn-0.23.1 scipy-1.5.4 threadpoolctl-2.2.0 tqdm-4.56.0 xgboost-1.1.1\n"
          ]
        },
        {
          "output_type": "display_data",
          "data": {
            "application/vnd.colab-display-data+json": {
              "pip_warning": {
                "packages": [
                  "numpy",
                  "pandas"
                ]
              }
            }
          },
          "metadata": {}
        }
      ]
    },
    {
      "cell_type": "code",
      "metadata": {
        "colab": {
          "base_uri": "https://localhost:8080/"
        },
        "id": "CcRnd_upvjUR",
        "outputId": "b2a11f1d-6975-4958-9a93-8f3f39cbbb8e"
      },
      "source": [
        "from lazypredict.Supervised import LazyClassifier, LazyRegressor\n",
        "from sklearn.model_selection import train_test_split\n",
        "from google.colab import drive\n",
        "drive.mount('/content/drive')\n",
        "from sklearn.preprocessing import MinMaxScaler, StandardScaler\n",
        "import pandas as pd"
      ],
      "execution_count": null,
      "outputs": [
        {
          "output_type": "stream",
          "name": "stdout",
          "text": [
            "Drive already mounted at /content/drive; to attempt to forcibly remount, call drive.mount(\"/content/drive\", force_remount=True).\n"
          ]
        }
      ]
    },
    {
      "cell_type": "code",
      "metadata": {
        "colab": {
          "base_uri": "https://localhost:8080/",
          "height": 206
        },
        "id": "MavtzCPGwX5G",
        "outputId": "d37d3e78-3a7f-461f-a34a-0389d69c9b8d"
      },
      "source": [
        "data_new =  pd.read_csv('/content/drive/My Drive/thecity/logP_lasso.csv',header=0)\n",
        "\n",
        "data_new.head()\n"
      ],
      "execution_count": null,
      "outputs": [
        {
          "output_type": "execute_result",
          "data": {
            "text/html": [
              "<div>\n",
              "<style scoped>\n",
              "    .dataframe tbody tr th:only-of-type {\n",
              "        vertical-align: middle;\n",
              "    }\n",
              "\n",
              "    .dataframe tbody tr th {\n",
              "        vertical-align: top;\n",
              "    }\n",
              "\n",
              "    .dataframe thead th {\n",
              "        text-align: right;\n",
              "    }\n",
              "</style>\n",
              "<table border=\"1\" class=\"dataframe\">\n",
              "  <thead>\n",
              "    <tr style=\"text-align: right;\">\n",
              "      <th></th>\n",
              "      <th>logP</th>\n",
              "      <th>SM6_D/Dt</th>\n",
              "      <th>ATSC6v</th>\n",
              "      <th>ATSC6e</th>\n",
              "      <th>GATS8s</th>\n",
              "      <th>SpMin2_Bh(i)</th>\n",
              "      <th>Eig07_AEA(ed)</th>\n",
              "      <th>Eig10_AEA(bo)</th>\n",
              "      <th>Eig12_AEA(bo)</th>\n",
              "      <th>Eig13_AEA(ri)</th>\n",
              "      <th>Mor19u</th>\n",
              "      <th>Mor29s</th>\n",
              "      <th>Au</th>\n",
              "      <th>HATS6v</th>\n",
              "      <th>HATS6p</th>\n",
              "      <th>HATS6s</th>\n",
              "      <th>R5u</th>\n",
              "      <th>R6s+</th>\n",
              "      <th>SP19</th>\n",
              "      <th>DLS_cons</th>\n",
              "    </tr>\n",
              "  </thead>\n",
              "  <tbody>\n",
              "    <tr>\n",
              "      <th>0</th>\n",
              "      <td>4.66</td>\n",
              "      <td>11.21</td>\n",
              "      <td>3.91</td>\n",
              "      <td>0.05</td>\n",
              "      <td>1.86</td>\n",
              "      <td>1.72</td>\n",
              "      <td>2.41</td>\n",
              "      <td>0.50</td>\n",
              "      <td>-0.50</td>\n",
              "      <td>-1.00</td>\n",
              "      <td>0.54</td>\n",
              "      <td>-0.03</td>\n",
              "      <td>18.01</td>\n",
              "      <td>0.24</td>\n",
              "      <td>0.33</td>\n",
              "      <td>2.08</td>\n",
              "      <td>1.00</td>\n",
              "      <td>0.23</td>\n",
              "      <td>0.23</td>\n",
              "      <td>0.68</td>\n",
              "    </tr>\n",
              "    <tr>\n",
              "      <th>1</th>\n",
              "      <td>4.66</td>\n",
              "      <td>11.21</td>\n",
              "      <td>3.91</td>\n",
              "      <td>0.05</td>\n",
              "      <td>1.86</td>\n",
              "      <td>1.72</td>\n",
              "      <td>2.41</td>\n",
              "      <td>0.50</td>\n",
              "      <td>-0.50</td>\n",
              "      <td>-1.00</td>\n",
              "      <td>0.54</td>\n",
              "      <td>-0.03</td>\n",
              "      <td>18.01</td>\n",
              "      <td>0.24</td>\n",
              "      <td>0.33</td>\n",
              "      <td>2.08</td>\n",
              "      <td>1.00</td>\n",
              "      <td>0.23</td>\n",
              "      <td>0.23</td>\n",
              "      <td>0.68</td>\n",
              "    </tr>\n",
              "    <tr>\n",
              "      <th>2</th>\n",
              "      <td>4.63</td>\n",
              "      <td>11.46</td>\n",
              "      <td>3.96</td>\n",
              "      <td>0.03</td>\n",
              "      <td>3.87</td>\n",
              "      <td>1.72</td>\n",
              "      <td>2.42</td>\n",
              "      <td>0.50</td>\n",
              "      <td>-0.50</td>\n",
              "      <td>-1.00</td>\n",
              "      <td>0.66</td>\n",
              "      <td>-0.08</td>\n",
              "      <td>17.62</td>\n",
              "      <td>0.17</td>\n",
              "      <td>0.24</td>\n",
              "      <td>1.32</td>\n",
              "      <td>1.03</td>\n",
              "      <td>0.13</td>\n",
              "      <td>1.22</td>\n",
              "      <td>0.68</td>\n",
              "    </tr>\n",
              "    <tr>\n",
              "      <th>3</th>\n",
              "      <td>4.72</td>\n",
              "      <td>11.53</td>\n",
              "      <td>3.76</td>\n",
              "      <td>0.08</td>\n",
              "      <td>0.22</td>\n",
              "      <td>1.72</td>\n",
              "      <td>2.54</td>\n",
              "      <td>0.50</td>\n",
              "      <td>-0.11</td>\n",
              "      <td>-0.90</td>\n",
              "      <td>0.55</td>\n",
              "      <td>-0.20</td>\n",
              "      <td>19.40</td>\n",
              "      <td>0.24</td>\n",
              "      <td>0.34</td>\n",
              "      <td>2.30</td>\n",
              "      <td>1.00</td>\n",
              "      <td>0.24</td>\n",
              "      <td>0.04</td>\n",
              "      <td>0.70</td>\n",
              "    </tr>\n",
              "    <tr>\n",
              "      <th>4</th>\n",
              "      <td>4.99</td>\n",
              "      <td>11.67</td>\n",
              "      <td>3.73</td>\n",
              "      <td>0.08</td>\n",
              "      <td>1.26</td>\n",
              "      <td>1.72</td>\n",
              "      <td>2.63</td>\n",
              "      <td>0.50</td>\n",
              "      <td>-0.17</td>\n",
              "      <td>-0.89</td>\n",
              "      <td>0.36</td>\n",
              "      <td>0.40</td>\n",
              "      <td>19.28</td>\n",
              "      <td>0.27</td>\n",
              "      <td>0.38</td>\n",
              "      <td>2.51</td>\n",
              "      <td>0.99</td>\n",
              "      <td>0.23</td>\n",
              "      <td>0.27</td>\n",
              "      <td>0.70</td>\n",
              "    </tr>\n",
              "  </tbody>\n",
              "</table>\n",
              "</div>"
            ],
            "text/plain": [
              "   logP  SM6_D/Dt  ATSC6v  ATSC6e  GATS8s  ...  HATS6s  R5u  R6s+  SP19  DLS_cons\n",
              "0  4.66     11.21    3.91    0.05    1.86  ...    2.08 1.00  0.23  0.23      0.68\n",
              "1  4.66     11.21    3.91    0.05    1.86  ...    2.08 1.00  0.23  0.23      0.68\n",
              "2  4.63     11.46    3.96    0.03    3.87  ...    1.32 1.03  0.13  1.22      0.68\n",
              "3  4.72     11.53    3.76    0.08    0.22  ...    2.30 1.00  0.24  0.04      0.70\n",
              "4  4.99     11.67    3.73    0.08    1.26  ...    2.51 0.99  0.23  0.27      0.70\n",
              "\n",
              "[5 rows x 20 columns]"
            ]
          },
          "metadata": {},
          "execution_count": 12
        }
      ]
    },
    {
      "cell_type": "code",
      "metadata": {
        "id": "EZBfyfGCwpgK"
      },
      "source": [
        "y = data_new['logP']\n",
        "\n",
        "\n",
        "X = data_new.drop(columns=['logP'])\n",
        "scaler = MinMaxScaler()\n",
        "scaler.fit(X)\n",
        "X = scaler.transform(X)\n",
        "\n",
        "\n",
        "X_train, X_test, y_train, y_test = train_test_split(X, y, test_size=0.20, random_state=42, shuffle=False)\n",
        "\n",
        "\n",
        "\n"
      ],
      "execution_count": null,
      "outputs": []
    },
    {
      "cell_type": "code",
      "metadata": {
        "colab": {
          "base_uri": "https://localhost:8080/"
        },
        "id": "x-dUrKQ9xm2r",
        "outputId": "c7cd7ac7-3927-46f1-853a-505121301e72"
      },
      "source": [
        "# fit all models\n",
        "reg = LazyRegressor(predictions=True)\n",
        "models, predictions = reg.fit(X_train, X_test, y_train, y_test)"
      ],
      "execution_count": null,
      "outputs": [
        {
          "output_type": "stream",
          "name": "stderr",
          "text": [
            "100%|██████████| 42/42 [00:02<00:00, 17.65it/s]\n"
          ]
        }
      ]
    },
    {
      "cell_type": "code",
      "metadata": {
        "colab": {
          "base_uri": "https://localhost:8080/"
        },
        "id": "VyREan9rxvQR",
        "outputId": "c03bdbec-cabc-45d8-cf8b-98af2941f37b"
      },
      "source": [
        "print(models)"
      ],
      "execution_count": null,
      "outputs": [
        {
          "output_type": "stream",
          "name": "stdout",
          "text": [
            "                               Adjusted R-Squared  R-Squared  RMSE  Time Taken\n",
            "Model                                                                         \n",
            "SGDRegressor                                 0.59       0.87  0.14        0.01\n",
            "LarsCV                                       0.57       0.86  0.14        0.08\n",
            "LassoLarsCV                                  0.57       0.86  0.14        0.08\n",
            "PoissonRegressor                             0.56       0.86  0.14        0.03\n",
            "ElasticNetCV                                 0.53       0.85  0.15        0.15\n",
            "LassoCV                                      0.53       0.85  0.15        0.11\n",
            "GammaRegressor                               0.50       0.84  0.15        0.02\n",
            "RANSACRegressor                              0.50       0.84  0.15        0.07\n",
            "BayesianRidge                                0.49       0.84  0.15        0.01\n",
            "Ridge                                        0.44       0.82  0.16        0.01\n",
            "OrthogonalMatchingPursuitCV                  0.43       0.82  0.16        0.03\n",
            "HuberRegressor                               0.36       0.79  0.17        0.07\n",
            "OrthogonalMatchingPursuit                    0.30       0.78  0.18        0.02\n",
            "LinearSVR                                    0.25       0.76  0.18        0.02\n",
            "GeneralizedLinearRegressor                   0.22       0.75  0.19        0.02\n",
            "TweedieRegressor                             0.22       0.75  0.19        0.02\n",
            "PassiveAggressiveRegressor                   0.21       0.74  0.19        0.02\n",
            "RidgeCV                                      0.17       0.73  0.19        0.01\n",
            "LassoLarsIC                                 -0.22       0.61  0.23        0.02\n",
            "TransformedTargetRegressor                  -0.26       0.59  0.24        0.02\n",
            "LinearRegression                            -0.26       0.59  0.24        0.02\n",
            "Lars                                        -0.44       0.54  0.26        0.05\n",
            "LGBMRegressor                               -1.57       0.17  0.34        0.04\n",
            "HistGradientBoostingRegressor               -1.62       0.16  0.34        0.13\n",
            "GradientBoostingRegressor                   -2.10       0.00  0.37        0.12\n",
            "AdaBoostRegressor                           -2.29      -0.06  0.39        0.13\n",
            "RandomForestRegressor                       -2.42      -0.10  0.39        0.23\n",
            "ExtraTreesRegressor                         -2.63      -0.17  0.41        0.16\n",
            "XGBRegressor                                -2.82      -0.23  0.42        0.17\n",
            "BaggingRegressor                            -2.97      -0.28  0.42        0.04\n",
            "DecisionTreeRegressor                       -3.59      -0.47  0.46        0.01\n",
            "ExtraTreeRegressor                          -4.02      -0.61  0.48        0.02\n",
            "KNeighborsRegressor                         -4.06      -0.63  0.48        0.02\n",
            "NuSVR                                      -10.53      -2.71  0.72        0.03\n",
            "SVR                                        -11.52      -3.03  0.75        0.02\n",
            "ElasticNet                                 -24.60      -7.23  1.08        0.01\n",
            "Lasso                                      -33.89     -10.21  1.26        0.01\n",
            "DummyRegressor                             -33.89     -10.21  1.26        0.01\n",
            "LassoLars                                  -33.89     -10.21  1.26        0.01\n",
            "MLPRegressor                              -226.56     -72.14  3.21        0.27\n",
            "KernelRidge                               -814.90    -261.26  6.08        0.03\n",
            "GaussianProcessRegressor                  -856.26    -274.55  6.23        0.02\n"
          ]
        }
      ]
    },
    {
      "cell_type": "code",
      "metadata": {
        "id": "ltnWHF0r0TaT",
        "colab": {
          "base_uri": "https://localhost:8080/"
        },
        "outputId": "2e0c4bf7-2387-4abb-b3b8-2dff09d88860"
      },
      "source": [
        "print(predictions)"
      ],
      "execution_count": null,
      "outputs": [
        {
          "output_type": "stream",
          "name": "stdout",
          "text": [
            "    AdaBoostRegressor  BaggingRegressor  ...  XGBRegressor  LGBMRegressor\n",
            "0                6.64              6.67  ...          6.60           6.71\n",
            "1                6.76              6.84  ...          6.88           7.07\n",
            "2                6.90              6.90  ...          7.02           6.84\n",
            "3                6.65              6.56  ...          6.54           6.68\n",
            "4                7.03              7.04  ...          7.16           7.15\n",
            "5                6.71              6.70  ...          6.79           6.99\n",
            "6                6.74              6.74  ...          6.68           7.18\n",
            "7                6.67              6.73  ...          6.71           6.88\n",
            "8                6.78              6.80  ...          6.72           6.78\n",
            "9                6.55              6.75  ...          6.57           6.59\n",
            "10               7.28              7.24  ...          7.22           7.18\n",
            "11               6.81              7.05  ...          6.86           7.19\n",
            "12               7.12              7.05  ...          7.08           7.18\n",
            "13               7.03              7.12  ...          7.19           7.13\n",
            "14               6.99              7.13  ...          7.20           7.15\n",
            "15               7.27              7.13  ...          7.18           7.21\n",
            "16               7.27              7.05  ...          7.11           7.16\n",
            "17               7.03              7.12  ...          7.08           7.15\n",
            "18               6.71              6.60  ...          6.69           7.03\n",
            "19               7.17              7.14  ...          7.10           7.17\n",
            "20               6.76              6.69  ...          6.70           6.89\n",
            "21               6.76              6.85  ...          6.71           7.17\n",
            "22               7.12              7.14  ...          7.10           7.08\n",
            "23               7.03              7.14  ...          7.13           7.05\n",
            "24               6.71              6.72  ...          6.68           6.98\n",
            "25               7.12              7.12  ...          7.18           7.18\n",
            "26               7.27              7.13  ...          7.19           7.21\n",
            "27               7.27              7.02  ...          7.08           7.21\n",
            "28               7.27              7.02  ...          7.08           7.21\n",
            "\n",
            "[29 rows x 42 columns]\n"
          ]
        }
      ]
    }
  ]
}